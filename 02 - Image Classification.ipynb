{
  "cells": [
    {
      "cell_type": "markdown",
      "source": [
        "# Klasifikasi Gambar\r\n",
        "\r\n",
        "Layanan kognitif *Visi Komputer* menyediakan beberapa model berguna yang telah dibuat sebelumnya untuk bekerja dengan gambar, tetapi Anda akan sering melatih model sendiri untuk Visi Komputer. Misalnya, perusahaan ritel Northwind Traders ingin membuat sistem checkout otomatis yang mengidentifikasi item belanjaan yang ingin dibeli pelanggan berdasarkan gambar yang diambil oleh kamera saat checkout. Untuk melakukannya, Anda harus melatih model klasifikasi yang dapat mengklasifikasikan gambar untuk mengidentifikasi item yang akan dibeli.\r\n",
        "\r\n",
        "![Robot memegang clipboard, mengklasifikasikan gambar apel, pisang, dan jeruk](./images/image-classification.jpg)\r\n",
        "\r\n",
        "Di Azure, Anda dapat menggunakan layanan kognitif ***Custom Vision*** untuk melatih model klasifikasi gambar berdasarkan gambar yang sudah ada. Ada dua elemen untuk membuat solusi klasifikasi gambar. Pertama, Anda harus melatih model untuk mengenali berbagai kelas menggunakan gambar yang ada. Lalu, saat model dilatih, Anda harus memublikasikannya sebagai layanan yang dapat dikonsumsi oleh aplikasi.\r\n",
        "\r\n",
        "## Membuat sumber daya Custom Vision\r\n",
        "\r\n",
        "Untuk menggunakan layanan Custom Vision, Anda memerlukan sumber daya Azure yang dapat Anda gunakan untuk melatih model, dan sumber daya yang dapat dipublikasikan agar dapat digunakan aplikasi. Sumber daya untuk salah satu (atau keduanya) tugas dapat berupa sumber daya **Cognitive Services** umum, atau sumber daya **Custom Vision** khusus. Anda dapat menggunakan sumber daya Cognitive Services yang sama untuk masing-masing tugas ini, atau menggunakan sumber daya berbeda (di wilayah yang sama) untuk masing-masing tugas guna mengelola biaya secara terpisah.\r\n",
        "\r\n",
        "Gunakan petunjuk berikut untuk membuat sumber daya **Custom Vision** yang baru.\r\n",
        "\r\n",
        "1. Di tab browser baru, buka portal Azure di [https://portal.azure.com](https://portal.azure.com), dan masuk menggunakan akun Microsoft yang terkait dengan langganan Azure Anda.\r\n",
        "2. Pilih tombol &65291; **Buat sumber daya**, cari Custom Vision, dan buat sumber daya **Custom Vision** dengan pengaturan berikut:\r\n",
        "    - **Buat opsi**: Keduanya\r\n",
        "    - **Langganan**: *Langganan Azure Anda*\r\n",
        "    - **Grup sumber daya**: *Pilih atau buat grup sumber daya dengan nama unik*\r\n",
        "    - **Nama**: *Masukkan nama unik*\r\n",
        "    - **Lokasi pelatihan**: *Pilih wilayah yang tersedia*\r\n",
        "    - **Tingkat harga pelatihan**: F0\r\n",
        "    - **Lokasi prediksi**: *Wilayah yang sama dengan sumber daya pelatihan*\r\n",
        "    - **Tingkat harga prediksi**: F0\r\n",
        "\r\n",
        "    > **Catatan**: Jika Anda sudah memiliki layanan custom vision F0 di langganan, pilih **S0** untuk yang satu ini.\r\n",
        "\r\n",
        "3. Tunggu agar sumber daya dibuat, dan perhatikan bahwa dua sumber daya Custom Vision tersedia; satu untuk pelatihan, dan lainnya untuk prediksi. Anda dapat melihat ini dengan menavigasi ke grup sumber daya tempat Anda membuatnya.\r\n",
        "\r\n",
        "## Membuat proyek Custom Vision\r\n",
        "\r\n",
        "Untuk melatih model deteksi objek, Anda harus membuat proyek Custom Vision berdasarkan sumber daya latihan. Untuk melakukannya, Anda akan menggunakan portal Custom Vision.\r\n",
        "\r\n",
        "1. Unduh dan ekstrak gambar pelatihan dari https://aka.ms/fruit-images. **Catatan:** sebagai solusi sementara, jika Anda tidak dapat mengakses gambar pelatihan, buka https://www.github.com, lalu buka https://aka.ms/fruit-images.  \r\n",
        "2. Di tab browser lain, buka portal Custom Vision di [https://customvision.ai](https://customvision.ai). Jika diminta, masuk menggunakan akun Microsoft yang terkait dengan langganan Azure Anda dan setujui ketentuan layanannya.\r\n",
        "3. Di portal Custom Vision, buat proyek baru dengan pengaturan berikut:\r\n",
        "    - **Nama**: Grocery Checkout\r\n",
        "    - **Deskripsi**: Klasifikasi Gambar untuk belanjaan\r\n",
        "    - **Sumber daya**: *Sumber daya Custom Vision yang Anda buat sebelumnya*\r\n",
        "    - **Jenis Proyek**: Klasifikasi\r\n",
        "    - **Jenis Klasifikasi**: Beberapa kelas (satu tag per gambar)\r\n",
        "    - **Domain**: Makanan\r\n",
        "4. Klik **\\[+\\] Tambahkan gambar**, dan pilih semua file dalam folder **apel** yang telah Anda ekstrak sebelumnya. Lalu unggah file gambar, yang menentukan tag *apel*, seperti ini:\r\n",
        "\r\n",
        "![Unggah apel dengan tag apel](./images/upload_apples.jpg)\r\n",
        "   \r\n",
        "5. Ulangi langkah sebelumnya untuk mengunggah gambar dalam folder **pisang** dengan tag *pisang*, dan gambar dalam folder **jeruk** dengan tag *jeruk*.\r\n",
        "6. Jelajahi gambar yang telah Anda unggah di proyek Custom Vision, seharusnya ada 15 gambar untuk masing-masing kelas, seperti ini:\r\n",
        "\r\n",
        "![Gambar dengan tag buah - 15 apel, 15 pisang, dan 15 jeruk](./images/fruit.jpg)\r\n",
        "    \r\n",
        "7. Di proyek Custom Vision, di atas gambar, klik **Latih** untuk melatih model klasifikasi menggunakan gambar dengan tag. Pilih opsi **Pelatihan Cepat**, lalu tunggu agar perulangan latihan selesai (ini memerlukan waktu kurang lebih satu menit).\r\n",
        "8. Saat perulangan model telah dilatih, tinjau metrik performa *Presisi*, *Pendahuluan*, dan *AP* - ketiganya mengukur akurasi prediksi model klasifikasi, dan semuanya harus tinggi.\r\n",
        "\r\n",
        "## Menguji model\r\n",
        "\r\n",
        "Sebelum memublikasikan perulangan model untuk digunakan aplikasi ini, Anda harus mengujinya.\r\n",
        "\r\n",
        "1. Di atas metrik performa, klik **Uji Cepat**.\r\n",
        "2. Di kotak **URL Gambar**, ketik `https://aka.ms/apple-image` dan klik &#10132;\r\n",
        "3. Lihat prediksi yang dihasilkan oleh model Anda - skor peluang untuk *apel* harus yang tertinggi, seperti ini:\r\n",
        "\r\n",
        "![Gambar dengan prediksi kelas apel](./images/test-apple.jpg)\r\n",
        "\r\n",
        "4. Tutup jendela **Uji Cepat**.\r\n",
        "\r\n",
        "## Memublikasikan dan mengggunakan model klasifikasi gambar\r\n",
        "\r\n",
        "Sekarang, Anda siap untuk memublikasikan model latihan Anda dan menggunakannya dari aplikasi klien.\r\n",
        "\r\n",
        "9. Klik **&#128504; Publikasikan** untuk memublikasikan model yang telah dilatih dengan pengaturan berikut:\r\n",
        "    - **Nama model**: groceries\r\n",
        "    - **Sumber Daya Prediksi**: *Sumber daya prediksi yang Anda buat sebelumnya*\r\n",
        "\r\n",
        "### (!) Cek Masuk \r\n",
        "Apakah Anda menggunakan nama model yang sama: **groceries**?   \r\n",
        "\r\n",
        "10. Setelah memublikasikan, klik ikon pengaturan (&#9881;) di bagian kanan atas halaman Performa untuk melihat pengaturan proyek. Lalu, di **Umum** (di kiri), salin **ID Proyek**. Gulir ke bawah dan tempel ke sel kode di bawah langkah 13 menggantikan **YOUR_PROJECT_ID**.\r\n",
        "\r\n",
        "![ID Proyek di pengaturan proyek](./images/cv_project_settings.jpg)\r\n",
        "\r\n",
        "> _**Catatan**: Jika Anda menggunakan sumber daya **Cognitive Services** daripada membuat sumber daya **Custom Vision** di awal latihan ini, Anda dapat menyalin kunci dan titik akhirnya dari sisi kanan pengaturan proyek, tempel ke sel kode di bawah, dan jalankan untuk melihat hasilnya. Jika tidak, lanjutkan menyelesaikan langkah-langkah di bawah untuk mendapatkan kunci dan titik akhir untuk sumber daya prediksi Custom Vision Anda.\r\n",
        "\r\n",
        "11. Di bagian kiri atas halaman **Pengaturan Proyek**, klik ikon *Galeri Proyek* (&#128065;) untuk kembali ke halaman beranda portal Custom Vision, tempat proyek Anda kini terdaftar.\r\n",
        "\r\n",
        "12. Di halaman beranda portal Custom Vision, di bagian kanan atas, klik ikon *pengaturan* (&#9881;) untuk melihat pengaturan layanan Custom Vision Anda. Lalu, di **Sumber daya**, perluas sumber daya **prediksi** Anda (<u>bukan</u> sumber daya pelatihan) dan salin nilai **Kunci** dan **Titik akhir** ke sel kode di bawah langkah 13, menggantikan **YOUR_KEY** dan **YOUR_ENDPOINT**.\r\n",
        "\r\n",
        "### (!) Cek Masuk \r\n",
        "Jika Anda menggunakan sumber daya **Custom Vision**, apakah Anda menggunakan sumber daya **prediksi** (<u>bukan</u> sumber daya pelatihan)?\r\n",
        "\r\n",
        "![Kunci dan titik akhir sumber daya prediksi di pengaturan custom vision](./images/cv_settings.jpg)\r\n",
        "\r\n",
        "13. Jalankan sel kode di bawah dengan mengeklik tombol **Jalankan sel** (&#9655;) (ke bagian kiri sel) guna mengatur variabel untuk ID proyek, kunci,dan nilai titik akhir Anda."
      ],
      "metadata": {}
    },
    {
      "cell_type": "code",
      "execution_count": null,
      "source": [
        "project_id = 'YOUR_PROJECT_ID'\r\n",
        "cv_key = 'YOUR_KEY'\r\n",
        "cv_endpoint = 'YOUR_ENDPOINT'\r\n",
        "\r\n",
        "model_name = 'groceries' # this must match the model name you set when publishing your model iteration (it's case-sensitive)!\r\n",
        "print('Ready to predict using model {} in project {}'.format(model_name, project_id))"
      ],
      "outputs": [],
      "metadata": {
        "gather": {
          "logged": 1599691949340
        }
      }
    },
    {
      "cell_type": "markdown",
      "source": [
        "Sekarang Anda dapat menggunakan kunci dan titik akhir dengan klien Custom Vision untuk tersambung ke model klasifikasi custom vision.\r\n",
        "\r\n",
        "Jalankan sel kode berikut untuk mengklasifikasikan pemilihan gambar uji menggunakan model yang Anda publikasikan.\r\n",
        "\r\n",
        "> **Catatan**: Jangan terlalu khawatir dengan detail kode. Detail kode menggunakan SDK Visi Komputer untuk Python guna mendapatkan prediksi kelas untuk masing-masing gambar di folder /data/image-classification/test-fruit"
      ],
      "metadata": {}
    },
    {
      "cell_type": "code",
      "execution_count": null,
      "source": [
        "from azure.cognitiveservices.vision.customvision.prediction import CustomVisionPredictionClient\r\n",
        "from msrest.authentication import ApiKeyCredentials\r\n",
        "import matplotlib.pyplot as plt\r\n",
        "from PIL import Image\r\n",
        "import os\r\n",
        "%matplotlib inline\r\n",
        "\r\n",
        "# Get the test images from the data/vision/test folder\r\n",
        "test_folder = os.path.join('data', 'image-classification', 'test-fruit')\r\n",
        "test_images = os.listdir(test_folder)\r\n",
        "\r\n",
        "# Create an instance of the prediction service\r\n",
        "credentials = ApiKeyCredentials(in_headers={\"Prediction-key\": cv_key})\r\n",
        "custom_vision_client = CustomVisionPredictionClient(endpoint=cv_endpoint, credentials=credentials)\r\n",
        "\r\n",
        "# Create a figure to display the results\r\n",
        "fig = plt.figure(figsize=(16, 8))\r\n",
        "\r\n",
        "# Get the images and show the predicted classes for each one\r\n",
        "print('Classifying images in {} ...'.format(test_folder))\r\n",
        "for i in range(len(test_images)):\r\n",
        "    # Open the image, and use the custom vision model to classify it\r\n",
        "    image_contents = open(os.path.join(test_folder, test_images[i]), \"rb\")\r\n",
        "    classification = custom_vision_client.classify_image(project_id, model_name, image_contents.read())\r\n",
        "    # The results include a prediction for each tag, in descending order of probability - get the first one\r\n",
        "    prediction = classification.predictions[0].tag_name\r\n",
        "    # Display the image with its predicted class\r\n",
        "    img = Image.open(os.path.join(test_folder, test_images[i]))\r\n",
        "    a=fig.add_subplot(len(test_images)/3, 3,i+1)\r\n",
        "    a.axis('off')\r\n",
        "    imgplot = plt.imshow(img)\r\n",
        "    a.set_title(prediction)\r\n",
        "plt.show()"
      ],
      "outputs": [],
      "metadata": {
        "gather": {
          "logged": 1599692327514
        }
      }
    },
    {
      "cell_type": "markdown",
      "source": [
        "Semoga, model klasifikasi gambar Anda telah mengidentifikasi belanjaan dengan benar pada gambar.\r\n",
        "\r\n",
        "## Pelajari selengkapnya\r\n",
        "\r\n",
        "Layanan Custom Vision menawarkan lebih banyak kemampuan dari yang telah kita pelajari dalam latihan ini. Misalnya, Anda juga dapat menggunakan layanan Custom Vision untuk membuat model *deteksi objek*; yang tidak hanya mengklasifikasikan objek pada gambar, tetapi juga mengidentifikasi *kotak pembatas* yang menampilkan lokasi objek pada gambar.\r\n",
        "\r\n",
        "Untuk mempelajari selengkapnya tentang layanan kognitif Custom Vision, lihat [dokumentasi Custom Vision](https://docs.microsoft.com/azure/cognitive-services/custom-vision-service/home)"
      ],
      "metadata": {}
    }
  ],
  "metadata": {
    "language_info": {
      "name": "python",
      "version": "3.6.9",
      "mimetype": "text/x-python",
      "codemirror_mode": {
        "name": "ipython",
        "version": 3
      },
      "pygments_lexer": "ipython3",
      "nbconvert_exporter": "python",
      "file_extension": ".py"
    },
    "kernelspec": {
      "name": "python3-azureml",
      "language": "python",
      "display_name": "Python 3.6 - AzureML"
    },
    "kernel_info": {
      "name": "python3-azureml"
    },
    "nteract": {
      "version": "nteract-front-end@1.0.0"
    }
  },
  "nbformat": 4,
  "nbformat_minor": 2
}