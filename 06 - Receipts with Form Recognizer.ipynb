{
  "cells": [
    {
      "cell_type": "markdown",
      "source": [
        "# Menganalisis Tanda Terima dengan Form Recognizer\r\n",
        "\r\n",
        "![Robot memegang tanda terima](./images/receipt_analysis.jpg)\r\n",
        "\r\n",
        "Di bidang kecerdasan buatan (AI) pada visi komputer, pengenalan karakter optik (OCR) umumnya digunakan untuk membaca dokumen cetak atau tulisan tangan. Seringkali, teks hanya diekstrak dari dokumen ke dalam format yang dapat digunakan untuk pemrosesan atau analisis lebih lanjut.\r\n",
        "\r\n",
        "Skenario OCR yang lebih canggih adalah ekstraksi informasi dari formulir, seperti pesanan atau faktur pembelian, dengan pemahaman semantik tentang apa yang disajikan bidang dalam formulir. Layanan **Form Recognizer** secara spesifik didesain untuk masalah AI jenis ini.\r\n",
        "\r\n",
        "## Melihat tanda terima\r\n",
        "\r\n",
        "Dalam contoh ini, Anda akan menggunakan model bawaan Form Recognizer untuk menganalisis tanda terima.\r\n",
        "\r\n",
        "Klik tombol **Jalankan sel** (&#9655;) (di sebelah kiri sel) di bawah untuk menjalankannya dan melihat contoh tanda terima yang akan digunakan untuk menganalisis Form Recognizer."
      ],
      "metadata": {}
    },
    {
      "cell_type": "code",
      "source": [
        "import matplotlib.pyplot as plt\n",
        "from PIL import Image\n",
        "import os\n",
        "%matplotlib inline\n",
        "\n",
        "\n",
        "# Load and display a receipt image\r\n",
        "fig = plt.figure(figsize=(6, 6))\n",
        "image_path = os.path.join('data', 'form-receipt', 'receipt.jpg')\n",
        "img = Image.open(image_path)\n",
        "plt.axis('off')\n",
        "plt.imshow(img)"
      ],
      "outputs": [],
      "execution_count": null,
      "metadata": {
        "gather": {
          "logged": 1599694427893
        }
      }
    },
    {
      "cell_type": "markdown",
      "source": [
        "## Membuat sumber daya Form Recognizer\r\n",
        "\r\n",
        ">**Catatan:** Anda dapat menggunakan sumber daya Cognitive Services atau sumber daya Form Recognizer untuk mengakses layanan Form Recognizer. \r\n",
        "\r\n",
        "Untuk membuat sumber daya Form Recognizer di langganan Azure Anda:\r\n",
        "\r\n",
        "1. Di tab browser lain, buka portal Microsoft Azure di https://portal.azure.com, masuk menggunakan akun Microsoft Anda.\r\n",
        "2. Pilih **+ Buat sumber daya**, dan cari *Form Recognizer*.\r\n",
        "3. Dalam daftar layanan, pilih **Form Recognizer**.\r\n",
        "4. Pada blade **Form Recognizer**, pilih **Buat**.\r\n",
        "5. Pada bilah **Buat**, masukkan detail berikut dan pilih **Buat**\r\n",
        "   - **Nama**: Nama unik untuk layanan Anda\r\n",
        "   - **Langganan**: Langganan Azure Anda\r\n",
        "   - **Wilayah**: Wilayah yang tersedia\r\n",
        "   - **Tingkat Harga**: F0\r\n",
        "   - **Grup Sumber Daya**: Grup sumber daya yang ada yang Anda gunakan sebelumnya\r\n",
        "   - **Saya mengonfirmasi bahwa saya telah membaca dan memahami pemberitahuan di bawah**: Dipilih.\r\n",
        "6. Tunggu hingga layanan dibuat.\r\n",
        "7. Lihat layanan Form Recognizer yang baru dibuat di portal Microsoft Azure dan di halaman **Kunci dan Titik Akhir**, salin nilai **Key1** dan **Titik Akhir** lalu tempel pada sel kode di bawah, menggantikan **YOUR_FORM_KEY** dan **YOUR_FORM_ENDPOINT**."
      ],
      "metadata": {}
    },
    {
      "cell_type": "code",
      "source": [
        "form_key = 'YOUR_FORM_KEY'\n",
        "form_endpoint = 'YOUR_FORM_ENDPOINT'\n",
        "\n",
        "print('Ready to use form recognizer at {} using key {}'.format(form_endpoint, form_key))"
      ],
      "outputs": [],
      "execution_count": null,
      "metadata": {
        "gather": {
          "logged": 1599694505850
        }
      }
    },
    {
      "cell_type": "markdown",
      "source": [
        "## Menganalisis tanda terima\r\n",
        "\r\n",
        "Sekarang Anda siap menggunakan Form Recognizer untuk menganalisis tanda terima."
      ],
      "metadata": {}
    },
    {
      "cell_type": "code",
      "source": [
        "import os\n",
        "from azure.ai.formrecognizer import FormRecognizerClient\n",
        "from azure.core.credentials import AzureKeyCredential\n",
        "\n",
        "# Create a client for the form recognizer service\r\n",
        "form_recognizer_client = FormRecognizerClient(endpoint=form_endpoint, credential=AzureKeyCredential(form_key))\n",
        "\n",
        "try:\n",
        "    print(\"Analyzing receipt...\")\n",
        "    # Get the receipt image file\n",
        "    image_path = os.path.join('data', 'form-receipt', 'receipt.jpg')\n",
        "\n",
        "    # Submit the file data to form recognizer\n",
        "    with open(image_path, \"rb\") as f:\n",
        "        analyze_receipt = form_recognizer_client.begin_recognize_receipts(receipt=f)\n",
        "    \n",
        "    # Get the results\n",
        "    receipt_data = analyze_receipt.result()\n",
        "\n",
        "    # Print the extracted data for the first (and only) receipt\n",
        "    receipt = receipt_data[0]\n",
        "    receipt_type = receipt.fields.get(\"ReceiptType\")\n",
        "    if receipt_type:\n",
        "        print(\"Receipt Type: {}\".format(receipt_type.value))\n",
        "    merchant_address = receipt.fields.get(\"MerchantAddress\")\n",
        "    if merchant_address:\n",
        "        print(\"Merchant Address: {}\".format(merchant_address.value))\n",
        "    merchant_phone = receipt.fields.get(\"MerchantPhoneNumber\")\n",
        "    if merchant_phone:\n",
        "        print(\"Merchant Phone: {}\".format(merchant_phone.value))\n",
        "    transaction_date = receipt.fields.get(\"TransactionDate\")\n",
        "    if transaction_date:\n",
        "        print(\"Transaction Date: {}\".format(transaction_date.value))\n",
        "    print(\"Receipt items:\")\n",
        "    items = receipt.fields.get(\"Items\")\n",
        "    if items:\n",
        "        for idx, item in enumerate(receipt.fields.get(\"Items\").value):\n",
        "            print(\"\\tItem #{}\".format(idx+1))\n",
        "            item_name = item.value.get(\"Name\")\n",
        "            if item_name:\n",
        "                print(\"\\t - Name: {}\".format(item_name.value))\n",
        "            item_total_price = item.value.get(\"TotalPrice\")\n",
        "            if item_total_price:\n",
        "                print(\"\\t - Price: {}\".format(item_total_price.value))\n",
        "    subtotal = receipt.fields.get(\"Subtotal\")\n",
        "    if subtotal:\n",
        "        print(\"Subtotal: {} \".format(subtotal.value))\n",
        "    tax = receipt.fields.get(\"Tax\")\n",
        "    if tax:\n",
        "        print(\"Tax: {}\".format(tax.value))\n",
        "    total = receipt.fields.get(\"Total\")\n",
        "    if total:\n",
        "        print(\"Total: {}\".format(total.value))\n",
        "\n",
        "except Exception as ex:\n",
        "    print('Error:', ex)\n"
      ],
      "outputs": [],
      "execution_count": null,
      "metadata": {
        "gather": {
          "logged": 1599694525404
        }
      }
    },
    {
      "cell_type": "markdown",
      "source": [
        "Perhatikan bahwa Form Recognizer dapat menafsirkan data dalam formulir, mengidentifikasi alamat dan nomor telepon penjual, serta tanggal dan waktu transaksi, juga item baris, subtotal, pajak, dan jumlah total dengan benar.\r\n",
        "\r\n",
        "## Informasi Selengkapnya\r\n",
        "\r\n",
        "Untuk informasi selengkapnya tentang layanan Form Recognizer, lihat [dokumentasi Form Recognizer](https://docs.microsoft.com/id-id/azure/cognitive-services/form-recognizer/index)"
      ],
      "metadata": {}
    }
  ],
  "metadata": {
    "language_info": {
      "name": "python",
      "version": "3.6.9",
      "mimetype": "text/x-python",
      "codemirror_mode": {
        "name": "ipython",
        "version": 3
      },
      "pygments_lexer": "ipython3",
      "nbconvert_exporter": "python",
      "file_extension": ".py"
    },
    "kernelspec": {
      "name": "python3-azureml",
      "language": "python",
      "display_name": "Python 3.6 - AzureML"
    },
    "kernel_info": {
      "name": "python3-azureml"
    },
    "nteract": {
      "version": "nteract-front-end@1.0.0"
    }
  },
  "nbformat": 4,
  "nbformat_minor": 2
}