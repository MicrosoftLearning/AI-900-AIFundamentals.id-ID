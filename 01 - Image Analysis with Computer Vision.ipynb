{
  "cells": [
    {
      "cell_type": "markdown",
      "source": [
        "# Analisis gambar dengan Layanan Visi Komputer\r\n",
        "\r\n",
        "![Robot memegang gambar](./images/computer_vision.jpg)\r\n",
        "\r\n",
        "*Visi Komputer* adalah cabang dari kercerdasan buatan (AI) yang mengeksplorasi pengembangan sistem AI yang dapat \"melihat\" dunia, baik secara real time melalui kamera atau dengan menganalisis gambar dan video. Hal ini dimungkinkan dengan fakta bahwa gambar digital pada dasarnya hanya sekelompok nilai piksel numerik, dan kita dapat menggunakan nilai piksel tersebut sebagai *fitur* untuk melatih model pembelajaran mesin yang dapat mengklasifikasikan gambar, mendeteksi objek diskret dalam sebuah gambar, dan bahkan menghasilkan ringkasan foto berbasis teks.\r\n",
        "\r\n",
        "## Menggunakan Cognitive Services Visi Komputer\r\n",
        "\r\n",
        "Microsoft Azure mencakup sejumlah *layanan kognitif* yang merangkum fungsi umum AI, termasuk beberapa yang dapat membantu Anda membuat solusi visi komputer.\r\n",
        "\r\n",
        "Layanan kognitif *Visi Komputer* menyediakan titik awal yang jelas untuk eengeksplorasi visi komputer di Azure. Layanan ini menggunakan model pembelajaran mesin yang telah dilatih untuk menganalisis gambar dan mengekstrak informasi tentangnya.\r\n",
        "\r\n",
        "Misalnya, Northwind Traders memutuskan untuk menerapkan \"toko cerdas\", dengan layanan AI yang memantau toko untuk mengidentifikasi pelanggan yang memerlukan bantuan, dan mengarahkan karyawan untuk membantu mereka. Dengan menggunakan layanan Visi Komputer, gambar yang diambil dengan kamera di seluruh toko dapat dianalisis untuk memberikan keterangan bermakna tentang isi gambar.\r\n",
        "\r\n",
        "### Membuat Sumber Daya Cognitive Services\r\n",
        "\r\n",
        "Mari mulai dengan membuat sumber daya **Cognitive Services** di langganan Azure Anda:\r\n",
        "\r\n",
        "1. Di tab browser lain, buka portal Microsoft Azure di https://portal.azure.com, masuk menggunakan akun Microsoft Anda.\r\n",
        "2. Klik tombol **&#65291;Buat sumber daya**, cari *Cognitive Services*, dan buat sumber daya **Cognitive Services** dengan pengaturan berikut:\r\n",
        "    - **Langganan**: *Langganan Azure Anda*.\r\n",
        "    - **Grup sumber daya**: *Pilih atau buat grup sumber daya dengan nama unik*.\r\n",
        "    - **Wilayah**: *Pilih wilayah yang tersedia*:\r\n",
        "    - **Nama**: *Masukkan nama yang unik*.\r\n",
        "    - **Tingkat Harga**: S0\r\n",
        "    - **Saya mengonfirmasi bahwa saya telah membaca dan memahami pemberitahuan tersebut**: Dipilih.\r\n",
        "3. Tunggu penyebaran hingga selesai. Lalu, buka sumber daya layanan kognitif, dan di halaman **Ringkasan**, klik tautan untuk mengelola kunci layanan. Anda akan memerlukan titik akhir dan kunci untuk terhubung ke sumber daya layanan kognitif Anda dari aplikasi klien.\r\n",
        "\r\n",
        "### Mendapatkan Kunci dan Titik Akhir untuk sumber daya Cognitive Services Anda\r\n",
        "\r\n",
        "Untuk menggunakan sumber daya layanan kognitif, aplikasi klien memerlukan titik akhir dan kunci autentikasi:\r\n",
        "\r\n",
        "1. Di portal Azure, di halaman **Kunci dan Titik Akhir** untuk sumber daya layanan kognitif Anda, salin **Kunci1** untuk sumber daya dan tempel pada kode di bawah, menggantikan **YOUR_COG_KEY**.\r\n",
        "2. Salin **titik akhir** untuk sumber daya dan tempel pada kode di bawah, menggantikan **YOUR_COG_ENDPOINT**.\r\n",
        "3. Jalankan kode di bawah dengan memilih sel, lalu mengeklik tombol **Jalankan sel** (&#9655;) ke sebelah kiri sel."
      ],
      "metadata": {}
    },
    {
      "cell_type": "code",
      "source": [
        "cog_key = 'YOUR_COG_KEY'\n",
        "cog_endpoint = 'YOUR_COG_ENDPOINT'\n",
        "\n",
        "print('Ready to use cognitive services at {} using key {}'.format(cog_endpoint, cog_key))"
      ],
      "outputs": [],
      "execution_count": null,
      "metadata": {
        "gather": {
          "logged": 1599691487445
        }
      }
    },
    {
      "cell_type": "markdown",
      "source": [
        "Sekarang, setelah menyiapkan kunci dan titik akhir, Anda dapat menggunakan layanan visi komputer untuk menganalisis gambar.\r\n",
        "\r\n",
        "Jalankan sel berikut untuk mendapatkan deskripsi gambar di file */data/vision/store_cam1.jpg*."
      ],
      "metadata": {}
    },
    {
      "cell_type": "code",
      "source": [
        "from azure.cognitiveservices.vision.computervision import ComputerVisionClient\n",
        "from msrest.authentication import CognitiveServicesCredentials\n",
        "from python_code import vision\n",
        "import os\n",
        "%matplotlib inline\n",
        "\n",
        "# Get the path to an image file\r\n",
        "image_path = os.path.join('data', 'vision', 'store_cam1.jpg')\n",
        "\n",
        "# Get a client for the computer vision service\r\n",
        "computervision_client = ComputerVisionClient(cog_endpoint, CognitiveServicesCredentials(cog_key))\n",
        "\n",
        "# Get a description from the computer vision service\r\n",
        "image_stream = open(image_path, \"rb\")\n",
        "description = computervision_client.describe_image_in_stream(image_stream)\n",
        "\n",
        "# Display image and caption (code in helper_scripts/vision.py)\r\n",
        "vision.show_image_caption(image_path, description)\n"
      ],
      "outputs": [],
      "execution_count": null,
      "metadata": {
        "gather": {
          "logged": 1599691518279
        }
      }
    },
    {
      "cell_type": "markdown",
      "source": [
        "Sepertinya cukup akurat.\r\n",
        "\r\n",
        "Mari coba gambar lainnya."
      ],
      "metadata": {}
    },
    {
      "cell_type": "code",
      "source": [
        "# Get the path to an image file\r\n",
        "image_path = os.path.join('data', 'vision', 'store_cam2.jpg')\n",
        "\n",
        "# Get a description from the computer vision service\r\n",
        "image_stream = open(image_path, \"rb\")\n",
        "description = computervision_client.describe_image_in_stream(image_stream)\n",
        "\n",
        "# Display image and caption (code in helper_scripts/vision.py)\r\n",
        "vision.show_image_caption(image_path, description)"
      ],
      "outputs": [],
      "execution_count": null,
      "metadata": {
        "gather": {
          "logged": 1599691524330
        }
      }
    },
    {
      "cell_type": "markdown",
      "source": [
        "Lagi, keterangan yang disarankan sepertinya cukup akurat.\r\n",
        "\r\n",
        "## Menganalisis fitur gambar\r\n",
        "\r\n",
        "Sejauh ini, Anda telah menggunakan layanan Visi Komputer untuk membuat keterangan deskriptif pada pasangan gambar; tetapi masih banyak yang dapat Anda lakukan. Layanan Visi Komputer menyediakan kemampuan analisis yang dapat mengekstrak detail informasi seperti:\r\n",
        "\r\n",
        "- Lokasi jenis objek umum yang terdeteksi di gambar.\r\n",
        "- Lokasi dan perkiraan umur wajah manusia dalam gambar.\r\n",
        "- Apakah gambar mengandung konten 'dewasa', 'cabul', atau 'kekerasan'.\r\n",
        "- Tag yang relevan dapat dikaitkan dengan gambar di database untuk memudahkan menemukannya.\r\n",
        "\r\n",
        "Jalankan kode berikut untuk menganalisis gambar pembeli."
      ],
      "metadata": {}
    },
    {
      "cell_type": "code",
      "source": [
        "# Get the path to an image file\r\n",
        "image_path = os.path.join('data', 'vision', 'store_cam1.jpg')\n",
        "\n",
        "# Specify the features we want to analyze\r\n",
        "features = ['Description', 'Tags', 'Adult', 'Objects', 'Faces']\n",
        "\n",
        "# Get an analysis from the computer vision service\r\n",
        "image_stream = open(image_path, \"rb\")\n",
        "analysis = computervision_client.analyze_image_in_stream(image_stream, visual_features=features)\n",
        "\n",
        "# Show the results of analysis (code in helper_scripts/vision.py)\r\n",
        "vision.show_image_analysis(image_path, analysis)"
      ],
      "outputs": [],
      "execution_count": null,
      "metadata": {
        "gather": {
          "logged": 1599691530747
        }
      }
    },
    {
      "cell_type": "markdown",
      "source": [
        "## Pelajari selengkapnya\r\n",
        "\r\n",
        "Selain kemampuan yang telah Anda jelajahi di buku catatan ini, layanan kognitif Visi Komputer mencakup kemampuan untuk:\r\n",
        "\r\n",
        "- Mengidentifikasi selebriti di gambar.\r\n",
        "- Mendeteksi logo merek di sebuah gambar.\r\n",
        "- Melakukan Pendahuluan Karakter Optik (OCR) untuk membaca teks dalam gambar.\r\n",
        "\r\n",
        "Untuk mempelajari lebih lanjut layanan kognitif Visi Komputer, lihat [dokumentasi Visi Komputer](https://docs.microsoft.com/azure/cognitive-services/computer-vision/)\r\n"
      ],
      "metadata": {}
    }
  ],
  "metadata": {
    "language_info": {
      "name": "python",
      "version": "3.6.9",
      "mimetype": "text/x-python",
      "codemirror_mode": {
        "name": "ipython",
        "version": 3
      },
      "pygments_lexer": "ipython3",
      "nbconvert_exporter": "python",
      "file_extension": ".py"
    },
    "kernelspec": {
      "name": "python3-azureml",
      "language": "python",
      "display_name": "Python 3.6 - AzureML"
    },
    "kernel_info": {
      "name": "python3-azureml"
    },
    "nteract": {
      "version": "nteract-front-end@1.0.0"
    }
  },
  "nbformat": 4,
  "nbformat_minor": 2
}