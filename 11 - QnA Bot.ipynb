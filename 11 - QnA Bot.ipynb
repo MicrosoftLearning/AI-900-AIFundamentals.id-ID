{
  "cells": [
    {
      "cell_type": "markdown",
      "source": [
        "# AI Percakapan\r\n",
        "\r\n",
        "Pikirkan tentang seberapa sering Anda berkomunikasi dengan orang lain melalui pesan instan, media sosial, email, atau teknologi online lainnya. Bagi kebanyakan orang, inilah adalah bentuk kontak kita. Saat Anda memiliki pertanyaan di tempat kerja, Anda dapat menghubungi rekan kerja menggunakan pesan obrolan, yang dapat digunakan di perangkat seluler, sehingga Anda selalu terhubung.\r\n",
        "\r\n",
        "![Manusia dan robot sedang mengobrol](./images/conversational_ai.jpg)\r\n",
        "\r\n",
        "Bot adalah agen AI yang berkomunikasi menggunakan saluran jenis ini, memungkinkan aktivitas percakapan yang alami dengan layanan perangkat lunak.\r\n",
        "\r\n",
        "## Membuat Basis Pengetahuan QnA Maker\r\n",
        "\r\n",
        "Untuk skenario dukungan pelanggan, membuat bot yang dapat menafsirkan dan menjawab pertanyaan yang sering diajukan melalui jendela obrolan situs web, email, atau antarmuka suara adalah hal yang umum. Yang mendasari antarmuka bot adalah basis pengetahuan pertanyaan dan jawaban yang sesuai sehingga bot dapat mencari respons yang sesuai.\r\n",
        "\r\n",
        "Layanan QnA Maker adalah layanan kognitif di Azure yang memungkinkan Anda membuat basis pengetahuan dengan cepat, baik dengan memasukkan pasangan pertanyaan dan jawaban atau dari dokumen yang ada atau halaman web. Selanjutnya, layanan ini dapat menggunakan beberapa kemampuan pemrosesan bahasa alami bawaan untuk menafsirkan pertanyaan dan menemukan jawaban yang sesuai.\r\n",
        "\r\n",
        "1. Buka tab browser lain dan kunjungi portal QnA Maker di https://qnamaker.ai. Masuk menggunakan akun Microsoft yang terkait dengan langganan Azure Anda.\r\n",
        "2. Di portal QnA Maker, pilih **Buat basis pengetahuan**.\r\n",
        "3. Jika Anda belum membuat sumber daya layanan QnA, pilih **Buat layanan QnA**. Portal Microsoft Azure akan terbuka di tab lain, sehingga Anda dapat membuat layanan QnA Maker di langganan Anda. Gunakan pengaturan berikut:\r\n",
        "   \r\n",
        "   - **Langganan**: *Langganan Azure Anda*\r\n",
        "   - **Grup sumber daya**: *Pilih grup sumber daya yang ada atau buat yang baru*\r\n",
        "   - **Nama**: *Nama unik untuk sumber daya QnA Anda*\r\n",
        "   - **Tingkat Harga**: F0\r\n",
        "   - **Tingkat harga Pencarian Azure:**: F\r\n",
        "   - **Lokasi Pencarian Azure**: *Lokasi mana pun yang tersedia*\r\n",
        "   - **Nama aplikasi**: _Seperti **Namenya** (\".azurewebsites.net” akan ditambahkan secara otomatis)_\r\n",
        "   - **Lokasi situs web**: Sama seperti **Lokasi Pencarian Azure**_\r\n",
        "   - **App insights**: Nonaktifkan\r\n",
        "\r\n",
        "> **Catatan**: Jika Anda sudah memprovisikan **QnA Maker** atau sumber daya **Azure Search** tingkat gratis, kuota Anda mungkin tidak memungkinkan Anda membuat yang lain. Dalam hal ini, pilih tingkat selain dari **F0** / **F**.\r\n",
        "\r\n",
        "4. Tunggu hingga penyebaran Layanan QnA dan sumber daya terkait selesai di portal Microsoft Azure .\r\n",
        "5. Kembali ke tab portal QnA Maker, dan di bagian **Langkah 2**, klik **Refresh** untuk me-refresh daftar sumber daya layanan QnA yang tersedia.\r\n",
        "6. Hubungkan layanan QnA ke KB dengan memilih opsi berikut:\r\n",
        "  - **ID Direktori Microsoft Azure**: *ID direktori Azure untuk langganan Anda*\r\n",
        "  - **Nama langganan Azure**: *Langganan Azure Anda*\r\n",
        "  - **Layanan QnA Azure**: *Sumber daya layanan QnA yang Anda buat di langkah sebelumnya*\r\n",
        "  - **Bahasa**: Inggris\r\n",
        "\r\n",
        "### (!) Cek Masuk\r\n",
        "Jika sebuah pesan menyatakan bahwa peran tersebut tidak memiliki izin untuk melakukan tindakan yang ditampilkan, refresh halaman browser untuk portal QnA Maker.\r\n",
        "\r\n",
        "7. Di bagian **Langkah 3**, masukkan nama **Margie's Travel KB**.\r\n",
        "8. Di bagian **Langkah 4**, di kotak **URL**, ketikkan *https://github.com/MicrosoftLearning/mslearn-ai900/raw/main/data/qna_bot/margies_faq.docx* dan klik **+ Tambah URL**. Lalu di **Obrolan**, pilih **Professional**.\r\n",
        "9. Di bagian **Langkah 5**, klik **Buat KB Anda**.\r\n",
        "10. Tunggu kurang lebih satu menit sementara Basis pengetahuan dibuat. Selanjutnya tinjau pertanyaan dan jawaban yang diimpor dari dokumen FAQ dan respons yang telah ditentukan obrolan profesional.\r\n"
      ],
      "metadata": {}
    },
    {
      "cell_type": "markdown",
      "source": [
        "## Mengedit Basis Pengetahuan\r\n",
        "\r\n",
        "Basis pengetahuan Anda didasarkan pada detail dalam dokumen FAQ dan beberapa respons yang ditentukan sebelumnya. Anda dapat menambahkan pasangan tanya jawab kustom sebagai tambahan.\r\n",
        "\r\n",
        "1. Klik **+ Tambah pasangan QnA**.\r\n",
        "2. Di kotak **Pertanyaan**, ketik `Hello`. Lalu klik **+ Tambahkan frasa alternatif** dan ketik `Hi`.\r\n",
        "3. Di kotak **Answer**, ketik `Hello`.\r\n",
        "\r\n",
        "## Melatih dan Menguji Basis Pengetahuan\r\n",
        "\r\n",
        "Sekarang setelah Anda memiliki basis pengetahuan, Anda dapat mengujinya di portal QnA Maker.\r\n",
        "\r\n",
        "1. Di bagian kanan atas halaman, klik **Simpan dan latih** untuk melatih basis pengetahuan Anda. Anda mungkin perlu mengubah ukuran jendela untuk melihat tombolnya.\r\n",
        "2. Setelah latihan selesai, klik **&larr; Uji** untuk membuka panel uji.\r\n",
        "3. Di panel uji, di bawah, masukkan pesan *Hai*. Respons **Halo** akan ditampilkan.\r\n",
        "4. Di panel uji, di bagian bawah, masukkan pesan *Saya ingin memesan penerbangan*. Respons yang sesuai dari FAQ akan ditampilkan.\r\n",
        "5. Setelah selesai menguji basis pengetahuan, klik **&rarr; Uji** untuk menutup panel uji.\r\n"
      ],
      "metadata": {}
    },
    {
      "cell_type": "markdown",
      "source": [
        "## Membuat Bot untuk Basis Pengetahuan\r\n",
        "\r\n",
        "Basis pengetahuan menyediakan layanan back-end yang dapat digunakan aplikasi klien untuk menjawab pertanyaan melalui beberapa jenis antarmuka pengguna. Umumnya, aplikasi klien ini merupakan bot. Guna menyediakan basis pengetahuan untuk bot, Anda harus menerbitkannya sebagai layanan yang dapat diakses melalui HTTP. Kemudian, Anda dapat menggunakan Layanan Bot Azure untuk membuat dan menghosting bot yang menggunakan basis pengetahuan tersebut guna menjawab pertanyaan pengguna.\r\n",
        "\r\n",
        "1. Di bagian atas halaman QnA Maker, klik **Terbitkan**. Lalu di halaman **Margies Travel KB**, klik **Terbitkan**.\r\n",
        "2. Setelah layanan disebarkan, klik **Buat Bot**. Ini akan membuka portal Microsoft Azure  di tab browser baru sehingga Anda dapat membuat Bot Aplikasi Web di langganan Azure Anda.\r\n",
        "3. Di portal Microsoft Azure , buat Bot Aplikasi Web dengan pengaturan berikut (umumnya ini akan diisi sebelumnya untuk Anda):\r\n",
        "  - **Pegangan bot**: *Nama unik untuk bot Anda*\r\n",
        "  - **Langganan**: *Langganan Azure Anda*\r\n",
        "  - **Grup sumber daya**: *Grup sumber daya berisi sumber daya QnA Maker*\r\n",
        "  - **Lokasi**: *Lokasi yang sama dengan layanan QnA Maker Anda*.\r\n",
        "  - **Tingkat Harga**: F0\r\n",
        "  - **Nama aplikasi**: *Sama dengan **Pegangan bot** dengan *.azurewebsites.net* ditambahkan secara otomatis\r\n",
        "  - **Bahasa SDK**: *Pilih C# atau Node.js*\r\n",
        "  - **Kunci Autentikasi QnA**: *Ini seharusnya diatur secara otomatis untuk kunci autentikasi untuk basis pengetahuan QnA Anda*\r\n",
        "  - **Paket/lokasi layanan aplikasi**: *Ini seharusnya diatur secara otomatis untuk paket dan lokasi yang sesuai*\r\n",
        "  - **Application Insights**: Off\r\n",
        "  - **ID dan kata sandi Microsoft App**: Membuat ID Aplikasi dan kata sandi.\r\n",
        "4. Tunggu hingga bot Anda dibuat (ikon pemberitahuan di kanan atas, terlihat seperti bel, akan dianimasikan sewaktu Anda menunggu). Di pemberitahuan, ketika penyebaran sudah selesai, klik **Buka sumber daya** (atau, di halaman beranda, klik **Grup sumber daya**, buka grup sumber daya tempat Anda membuat bot aplikasi web, dan klik.)\r\n",
        "5. Di panel sebelah kiri bot, cari **Pengaturan**, klik **Uji di Web Chat**, dan tunggu hingga bot menampilkan pesan **Halo dan selamat datang!** (Perlu beberapa detik hingga selesai).\r\n",
        "6. Gunakan antarmuka obrolan untuk memastikan bot menjawab pertanyaan dari basis pengetahuan seperti yang diharapkan. Misalnya, coba kirim *Saya perlu membatalkan hotel saya*.\r\n"
      ],
      "metadata": {}
    },
    {
      "cell_type": "markdown",
      "source": [
        "## Mengakses Bot melalui Saluran\r\n",
        "\r\n",
        "Bot dapat digunakan untuk menyediakan antarmuka bagi pengguna melalui satu atau beberapa *saluran*. Misalnya, bot yang sama dapat mendukung interaksi melalui antarmuka obrolan web, email, dan Microsoft Teams.\r\n",
        "\r\n",
        "1. Di panel sebelah kiri bot, cari **Pengaturan** dan klik **Saluran**.\r\n",
        "2. Perhatikan bahwa saluran **Web Chat** telah ditambahkan secara otomatis, dan saluran lain untuk platform komunikasi umum tersedia.\r\n",
        "3. Di sebelah saluran **Web Chat**, klik **Edit**. Ini akan membuka halaman dengan pengaturan yang Anda perlukan untuk menyematkan bot di halaman web. Untuk menyematkan bot, Anda memerlukan kode semat HTML yang disediakan serta salah satu kunci rahasia yang dihasilkan untuk bot Anda.\r\n",
        "4. Salin **Kode semat** dan tempel ke sel di bawah, menggantikan komentar `<!-- EMBED CODE GOES HERE -->`.\r\n",
        "5. Klik **Tampilkan** salah satu kunci rahasia (tidak masalah yang mana saja), dan salin. Lalu tempel di kode semat HTML Anda di bawah, menggantikan `YOUR_SECRET_HERE`.\r\n",
        "6. Ubah nilai **min-height** pada kode HTML ke **200px** (bukan default 500px). Ini akan membantu memastikan antarmuka HTML terlihat tanpa harus menggulir ke bawah.\r\n",
        "7. Jalankan sel di bawah dengan mengeklik tombol **Jalankan sel** (&#9655;) di sebelah kiri sel untuk merender HTML.\r\n",
        "8. Di antarmuka obrolan HTML, uji bot dengan mengirim pertanyaan, seperti *Siapa Margie?* atau *Destinasi mana yang dapat saya kunjungi?* (Saat menginisialisasi, bot dapat merespons dengan pesan *Halo dan selamat datang* selain menjawab pertanyaan Anda)."
      ],
      "metadata": {}
    },
    {
      "cell_type": "code",
      "execution_count": null,
      "source": [
        "%%html\r\n",
        "\r\n",
        "<!-- EMBED CODE GOES HERE -->"
      ],
      "outputs": [],
      "metadata": {}
    },
    {
      "cell_type": "markdown",
      "source": [
        "Bereksperimen dengan bot. Anda mungkin menyadari bahwa bot dapat menjawab pertanyaan dari FAQ cukup akurat, tetapi bot memiliki kemampuan terbatas untuk menafsirkan pertanyaan yang belum dilatih untuk itu. Anda selalu dapat menggunakan portal QnA Maker guna mengedit basis pengetahuan untuk menyempurnakannya, dan menerbitkannya kembali.\r\n",
        "\r\n",
        "## Pelajari selengkapnya\r\n",
        "\r\n",
        "- Untuk mempelajari selengkapnya tentang layanan QnA, lihat [dokumentasi QnA Maker](https://docs.microsoft.com/azure/cognitive-services/qnamaker/).\r\n",
        "- Untuk mempelajari selengkapnya tentang Layanan Bot Microsoft, lihat [halaman Layanan Bot Azure](https://azure.microsoft.com/services/bot-service/)."
      ],
      "metadata": {}
    }
  ],
  "metadata": {
    "language_info": {
      "name": "python",
      "version": "3.6.9",
      "mimetype": "text/x-python",
      "codemirror_mode": {
        "name": "ipython",
        "version": 3
      },
      "pygments_lexer": "ipython3",
      "nbconvert_exporter": "python",
      "file_extension": ".py"
    },
    "kernelspec": {
      "name": "python3-azureml",
      "language": "python",
      "display_name": "Python 3.6 - AzureML"
    },
    "kernel_info": {
      "name": "python3-azureml"
    },
    "nteract": {
      "version": "nteract-front-end@1.0.0"
    }
  },
  "nbformat": 4,
  "nbformat_minor": 2
}