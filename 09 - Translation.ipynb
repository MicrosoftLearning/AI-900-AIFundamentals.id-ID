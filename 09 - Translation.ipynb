{
  "cells": [
    {
      "cell_type": "markdown",
      "source": [
        "# Penerjemahan\r\n",
        "\r\n",
        "Salah satu kekuatan pendorong yang telah memungkinkan peradaban manusia berkembang adalah kemampuan untuk saling berkomunikasi. Dalam sebagian besar upaya manusia, komunikasi adalah kuncinya.\r\n",
        "\r\n",
        "![Robot multibahasa](./images/translation.jpg)\r\n",
        "\r\n",
        "AI dapat membantu menyederhanakan komunikasi dengan menerjemahkan teks atau ucapan antar bahasa, membantu menghilangkan halangan untuk komunikasi lintas negara dan budaya.\r\n",
        "\r\n",
        "## Membuat sumber daya Cognitive Services\r\n",
        "\r\n",
        "Di Azure, Anda dapat menggunakan layanan kognitif untuk menerjemahkan beberapa bahasa.\r\n",
        "\r\n",
        "Jika Anda belum memilikinya, gunakan langkah-langkah berikut untuk membuat sumber daya **Cognitive Services** di langganan Azure Anda:\r\n",
        "\r\n",
        "> **Catatan**: Jika Anda sudah memiliki sumber daya Cognitive Services, cukup buka halaman **Mulai cepat** di portal Microsoft Azure dan salin kunci dan titik akhirnya ke sel di bawah. Atau, ikuti langkah-langkah di bawah untuk membuatnya.\r\n",
        "\r\n",
        "1. Di tab browser lain, buka portal Microsoft Azure di https://portal.azure.com, masuk menggunakan akun Microsoft Anda.\r\n",
        "2. Klik tombol **&#65291;Buat sumber daya**, cari *Cognitive Services*, dan buat sumber daya **Cognitive Services** dengan pengaturan berikut:\r\n",
        "    - **Langganan**: *Langganan Azure Anda*.\r\n",
        "    - **Grup sumber daya**: *Pilih atau buat grup sumber daya dengan nama unik*.\r\n",
        "    - **Wilayah**: *Pilih wilayah yang tersedia*:\r\n",
        "    - **Nama**: *Masukkan nama yang unik*.\r\n",
        "    - **Tingkat Harga**: S0\r\n",
        "    - **Saya mengonfirmasi bahwa saya telah membaca dan memahami pemberitahuan tersebut**: Dipilih.\r\n",
        "3. Tunggu penyebaran hingga selesai. Lalu, buka sumber daya layanan kognitif, dan di halaman **Ringkasan**, klik tautan untuk mengelola kunci layanan. Anda akan memerlukan titik akhir dan kunci untuk terhubung ke sumber daya layanan kognitif Anda dari aplikasi klien.\r\n",
        "\r\n",
        "### Mendapatkan Kunci dan Lokasi untuk sumber daya Cognitive Services Anda\r\n",
        "\r\n",
        "Untuk menggunakan sumber daya layanan kognitif, aplikasi klien memerlukan lokasi dan kunci autentikasinya:\r\n",
        "\r\n",
        "1. Di portal Azure, di halaman **Kunci dan Titik Akhir** untuk sumber daya layanan kognitif Anda, salin **Kunci1** untuk sumber daya dan tempel pada kode di bawah, menggantikan **YOUR_COG_KEY**.\r\n",
        "2. Salin **Lokasi** untuk sumber daya Anda dan tempel pada kode di bawah, menggantikan **YOUR_COG_LOCATION**.\r\n",
        ">**Catatan**: Tetap di halaman **Kunci dan Titik Akhir** dan salin  **Lokasi** dari halaman ini (contoh: _westus_). Jangan _tambahkan_ spasi di antara kata untuk bidang Lokasi. \r\n",
        "3. Jalankan kode di bawah dengan mengeklik tombol **Jalankan sel** (&#9655;) di sebelah kiri sel."
      ],
      "metadata": {}
    },
    {
      "cell_type": "code",
      "source": [
        "cog_key = 'YOUR_COG_KEY'\n",
        "cog_location = 'YOUR_COG_LOCATION'\n",
        "\n",
        "print('Ready to use cognitive services in {} using key {}'.format(cog_location, cog_key))"
      ],
      "outputs": [],
      "execution_count": null,
      "metadata": {
        "gather": {
          "logged": 1599695377020
        }
      }
    },
    {
      "cell_type": "markdown",
      "source": [
        "## Menerjemahkan Teks\r\n",
        "\r\n",
        "Seperti namanya, layanan **Penerjemah Teks** memungkinkan Anda menerjemahkan teks dari satu bahasa ke bahasa lain.\r\n",
        "\r\n",
        "Tidak ada SDK Python untuk layanan ini, tetapi Anda dapat menggunakan antarmuka REST untuk mengirim permintaan ke titik akhir melalui HTTP, yang relatif mudah untuk dilakukan di Python menggunakan pustaka **permintaan**. Informasi tentang teks yang akan diterjemahkan dan teks terjemahan yang dihasilkan dipertukarkan dalam format JSON.\r\n",
        "\r\n",
        "Jalankan sel berikut untuk membuat fungsi yang melakukan ini, lalu uji fungsi tersebut dengan terjemahan sederhana dari bahasa Inggris ke bahasa Prancis."
      ],
      "metadata": {}
    },
    {
      "cell_type": "code",
      "source": [
        "# Create a function that makes a REST request to the Text Translation service\r\n",
        "def translate_text(cog_location, cog_key, text, to_lang='fr', from_lang='en'):\n",
        "    import requests, uuid, json\n",
        "\n",
        "    # Create the URL for the Text Translator service REST request\n",
        "    path = 'https://api.cognitive.microsofttranslator.com/translate?api-version=3.0'\n",
        "    params = '&from={}&to={}'.format(from_lang, to_lang)\n",
        "    constructed_url = path + params\n",
        "\n",
        "    # Prepare the request headers with Cognitive Services resource key and region\n",
        "    headers = {\n",
        "        'Ocp-Apim-Subscription-Key': cog_key,\n",
        "        'Ocp-Apim-Subscription-Region':cog_location,\n",
        "        'Content-type': 'application/json',\n",
        "        'X-ClientTraceId': str(uuid.uuid4())\n",
        "    }\n",
        "\n",
        "    # Add the text to be translated to the body\n",
        "    body = [{\n",
        "        'text': text\n",
        "    }]\n",
        "\n",
        "    # Get the translation\n",
        "    request = requests.post(constructed_url, headers=headers, json=body)\n",
        "    response = request.json()\n",
        "    return response[0][\"translations\"][0][\"text\"]\n",
        "\n",
        "\n",
        "# Test the function\r\n",
        "text_to_translate = \"Hello\"\n",
        "\n",
        "translation = translate_text(cog_location, cog_key, text_to_translate, to_lang='fr', from_lang='en')\n",
        "print('{} -> {}'.format(text_to_translate,translation))"
      ],
      "outputs": [],
      "execution_count": null,
      "metadata": {
        "gather": {
          "logged": 1599695393341
        }
      }
    },
    {
      "cell_type": "markdown",
      "source": [
        "Layanan seharusnya menerjemahkan teks bahasa Inggris \"Halo\" ke bahasa Prancis \"Bonjour\".\r\n",
        "\r\n",
        "Perhatikan bahwa bahasa ditentukan dengan menggunakan sistem standar singkatan bahasa, dengan *en* untuk Bahasa Inggris dan *fr* untuk Prancis. Anda juga dapat menggunakan singkatan yang mencakup budaya tertentu, yang bermanfaat saat bahasa yang sama digunakan di area geografis yang berbeda, seringkali dengan pengucapan berbeda. Misalnya *en-US* merujuk pada Bahasa Inggris di Amerika Serikat, sementara *en-GB* mengindikasikan Bahasa Inggris di Britania Raya.\r\n",
        "\r\n",
        "Jalankan sel berikut untuk menerjemahkan antara Bahasa Inggris Britis dan Italia."
      ],
      "metadata": {}
    },
    {
      "cell_type": "code",
      "source": [
        "text_to_translate = \"Hello\"\n",
        "\n",
        "translation = translate_text(cog_location, cog_key, text_to_translate, to_lang='it-IT', from_lang='en-GB')\n",
        "print('{} -> {}'.format(text_to_translate,translation))"
      ],
      "outputs": [],
      "execution_count": null,
      "metadata": {
        "gather": {
          "logged": 1599695400335
        }
      }
    },
    {
      "cell_type": "markdown",
      "source": [
        "Mari coba terjemahan lain, kali ini dari Bahasa Inggris AS ke Bahasa Tionghoa."
      ],
      "metadata": {}
    },
    {
      "cell_type": "code",
      "source": [
        "text_to_translate = \"Hello\"\n",
        "\n",
        "translation = translate_text(cog_location, cog_key, text_to_translate, to_lang='zh-CN', from_lang='en-US')\n",
        "print('{} -> {}'.format(text_to_translate,translation))"
      ],
      "outputs": [],
      "execution_count": null,
      "metadata": {
        "gather": {
          "logged": 1599695403076
        }
      }
    },
    {
      "cell_type": "markdown",
      "source": [
        "## Penerjemahan Ucapan\r\n",
        "\r\n",
        "Anda dapat menggunakan layanan **Ucapan** untuk menerjemahkan bahasa lisan.\r\n",
        "\r\n",
        "Sekarang Anda dapat menjalankan sel berikut untuk membuat dan menguji fungsi yang menggunakan SDK Ucapan untuk menerjemahkan ucapan yang dapat didengar."
      ],
      "metadata": {}
    },
    {
      "cell_type": "code",
      "source": [
        "# Create a function to translate audio in one language to text in another\r\n",
        "def translate_speech(cog_location, cog_key, audio_file=None, to_lang='fr-FR', from_lang='en-US'):\n",
        "    from azure.cognitiveservices.speech import SpeechConfig, AudioConfig, ResultReason\n",
        "    from azure.cognitiveservices.speech.translation import SpeechTranslationConfig, TranslationRecognizer\n",
        "\n",
        "    # Configure the speech translation service\n",
        "    translation_config = SpeechTranslationConfig(subscription=cog_key, region=cog_location)\n",
        "    translation_config.speech_recognition_language = from_lang\n",
        "    translation_config.add_target_language(to_lang)\n",
        "\n",
        "    # Configure audio input\n",
        "    if audio_file is None:\n",
        "        audio_config = AudioConfig() # Use default input (microphone)\n",
        "    else:\n",
        "        audio_config = AudioConfig(filename=audio_file) # Use file input\n",
        "\n",
        "    # Create a translation recognizer and use it to translate speech input\n",
        "    recognizer = TranslationRecognizer(translation_config, audio_config)\n",
        "    result = recognizer.recognize_once()\n",
        "\n",
        "    # Did we get it?\n",
        "    translation = ''\n",
        "    speech_text = ''\n",
        "    if result.reason == ResultReason.TranslatedSpeech:\n",
        "        speech_text = result.text\n",
        "        translation =  result.translations[to_lang]\n",
        "    elif result.reason == ResultReason.RecognizedSpeech:\n",
        "        speech_text = result.text\n",
        "        translation =  'Unable to translate speech'\n",
        "    else:\n",
        "        translation = 'Unknown'\n",
        "        speech_text = 'Unknown'\n",
        "\n",
        "    # rturn the translation\n",
        "    return speech_text, translation\n",
        "    \n",
        "\n",
        "# Test the function\r\n",
        "import os\n",
        "\n",
        "file_name = 'english.wav'\n",
        "file_path = os.path.join('data', 'translation', file_name)\n",
        "speech, translated_speech = translate_speech(cog_location, cog_key, file_path, to_lang='es', from_lang='en-US')\n",
        "result = '{} -> {}'.format(speech, translated_speech)\n",
        "\n",
        "# Show translated text\r\n",
        "print(result)"
      ],
      "outputs": [],
      "execution_count": null,
      "metadata": {
        "gather": {
          "logged": 1599695532629
        }
      }
    },
    {
      "cell_type": "markdown",
      "source": [
        "Perhatikan bahwa bahasa \"tujuan” harus diidentifikasi menggunakan kode bahasa 2 karakter (misalnya *en*), sementara bahasa \"dari” harus mencakup indikator budaya (misalnya *en-US*).\r\n",
        "\r\n",
        "Mari kita coba menerjemahkan dari bahasa Prancis ke bahasa Inggris."
      ],
      "metadata": {}
    },
    {
      "cell_type": "code",
      "source": [
        "import os\n",
        "\n",
        "file_name = 'french.wav'\n",
        "file_path = os.path.join('data', 'translation', file_name)\n",
        "speech, translated_speech = translate_speech(cog_location, cog_key, file_path, to_lang='en', from_lang='fr-FR')\n",
        "result = '{} -> {}'.format(speech, translated_speech)\n",
        "\n",
        "# Show translated text\r\n",
        "print(result)"
      ],
      "outputs": [],
      "execution_count": null,
      "metadata": {
        "gather": {
          "logged": 1599695542192
        }
      }
    },
    {
      "cell_type": "markdown",
      "source": [
        "## Pelajari selengkapnya\r\n",
        "\r\n",
        "Anda dapat mempelajari selengkapnya tentang [Penerjemah Teks](https://docs.microsoft.com/azure/cognitive-services/translator/) dan [penerjemahan dengan layanan Ucapan](https://docs.microsoft.com/azure/cognitive-services/speech-service/index-speech-translation) dalam dokumentasi layanan."
      ],
      "metadata": {}
    }
  ],
  "metadata": {
    "language_info": {
      "name": "python",
      "version": "3.6.0-final",
      "mimetype": "text/x-python",
      "codemirror_mode": {
        "name": "ipython",
        "version": 3
      },
      "pygments_lexer": "ipython3",
      "nbconvert_exporter": "python",
      "file_extension": ".py"
    },
    "kernelspec": {
      "name": "python360jvsc74a57bd0aab07c05e18e3fae3dc841dc401f8bbd0373bf54f494cf150722bab0ea91cfef",
      "display_name": "Python 3.6.0 64-bit"
    },
    "kernel_info": {
      "name": "python3-azureml"
    },
    "nteract": {
      "version": "nteract-front-end@1.0.0"
    }
  },
  "nbformat": 4,
  "nbformat_minor": 2
}